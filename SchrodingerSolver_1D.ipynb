{
 "cells": [
  {
   "cell_type": "code",
   "execution_count": 1,
   "metadata": {},
   "outputs": [],
   "source": [
    "import numpy as np\n",
    "import pandas as pd\n",
    "import matplotlib.pyplot as plt\n",
    "import os"
   ]
  },
  {
   "cell_type": "code",
   "execution_count": 2,
   "metadata": {},
   "outputs": [
    {
     "name": "stdout",
     "output_type": "stream",
     "text": [
      "/Users/makkimaki/PycharmProjects/python_programming/SchrodingerSolver_HarmonicLikePotential1D\n"
     ]
    }
   ],
   "source": [
    "path = os.getcwd()\n",
    "print(path)"
   ]
  },
  {
   "cell_type": "code",
   "execution_count": 3,
   "metadata": {},
   "outputs": [],
   "source": [
    "filename = \"SymmetricPotentialEnergy.csv\"\n",
    "df = pd.read_csv(filename, header=4)"
   ]
  },
  {
   "cell_type": "code",
   "execution_count": 4,
   "metadata": {},
   "outputs": [
    {
     "data": {
      "text/html": [
       "<div>\n",
       "<style scoped>\n",
       "    .dataframe tbody tr th:only-of-type {\n",
       "        vertical-align: middle;\n",
       "    }\n",
       "\n",
       "    .dataframe tbody tr th {\n",
       "        vertical-align: top;\n",
       "    }\n",
       "\n",
       "    .dataframe thead th {\n",
       "        text-align: right;\n",
       "    }\n",
       "</style>\n",
       "<table border=\"1\" class=\"dataframe\">\n",
       "  <thead>\n",
       "    <tr style=\"text-align: right;\">\n",
       "      <th></th>\n",
       "      <th>% dist</th>\n",
       "      <th>r</th>\n",
       "      <th>Electric potential (V), Point: (0, 0)</th>\n",
       "    </tr>\n",
       "  </thead>\n",
       "  <tbody>\n",
       "    <tr>\n",
       "      <th>0</th>\n",
       "      <td>0.14</td>\n",
       "      <td>0.00</td>\n",
       "      <td>0.139774</td>\n",
       "    </tr>\n",
       "    <tr>\n",
       "      <th>1</th>\n",
       "      <td>0.14</td>\n",
       "      <td>0.02</td>\n",
       "      <td>0.139782</td>\n",
       "    </tr>\n",
       "    <tr>\n",
       "      <th>2</th>\n",
       "      <td>0.14</td>\n",
       "      <td>0.04</td>\n",
       "      <td>0.139795</td>\n",
       "    </tr>\n",
       "    <tr>\n",
       "      <th>3</th>\n",
       "      <td>0.14</td>\n",
       "      <td>0.06</td>\n",
       "      <td>0.139814</td>\n",
       "    </tr>\n",
       "    <tr>\n",
       "      <th>4</th>\n",
       "      <td>0.14</td>\n",
       "      <td>0.08</td>\n",
       "      <td>0.139829</td>\n",
       "    </tr>\n",
       "  </tbody>\n",
       "</table>\n",
       "</div>"
      ],
      "text/plain": [
       "   % dist     r  Electric potential (V), Point: (0, 0)\n",
       "0    0.14  0.00                               0.139774\n",
       "1    0.14  0.02                               0.139782\n",
       "2    0.14  0.04                               0.139795\n",
       "3    0.14  0.06                               0.139814\n",
       "4    0.14  0.08                               0.139829"
      ]
     },
     "execution_count": 4,
     "metadata": {},
     "output_type": "execute_result"
    }
   ],
   "source": [
    "df.head()"
   ]
  },
  {
   "cell_type": "code",
   "execution_count": 5,
   "metadata": {},
   "outputs": [
    {
     "data": {
      "text/html": [
       "<div>\n",
       "<style scoped>\n",
       "    .dataframe tbody tr th:only-of-type {\n",
       "        vertical-align: middle;\n",
       "    }\n",
       "\n",
       "    .dataframe tbody tr th {\n",
       "        vertical-align: top;\n",
       "    }\n",
       "\n",
       "    .dataframe thead th {\n",
       "        text-align: right;\n",
       "    }\n",
       "</style>\n",
       "<table border=\"1\" class=\"dataframe\">\n",
       "  <thead>\n",
       "    <tr style=\"text-align: right;\">\n",
       "      <th></th>\n",
       "      <th>z</th>\n",
       "      <th>r</th>\n",
       "      <th>potential</th>\n",
       "    </tr>\n",
       "  </thead>\n",
       "  <tbody>\n",
       "    <tr>\n",
       "      <th>0</th>\n",
       "      <td>0.14</td>\n",
       "      <td>0.00</td>\n",
       "      <td>0.139774</td>\n",
       "    </tr>\n",
       "    <tr>\n",
       "      <th>1</th>\n",
       "      <td>0.14</td>\n",
       "      <td>0.02</td>\n",
       "      <td>0.139782</td>\n",
       "    </tr>\n",
       "    <tr>\n",
       "      <th>2</th>\n",
       "      <td>0.14</td>\n",
       "      <td>0.04</td>\n",
       "      <td>0.139795</td>\n",
       "    </tr>\n",
       "    <tr>\n",
       "      <th>3</th>\n",
       "      <td>0.14</td>\n",
       "      <td>0.06</td>\n",
       "      <td>0.139814</td>\n",
       "    </tr>\n",
       "    <tr>\n",
       "      <th>4</th>\n",
       "      <td>0.14</td>\n",
       "      <td>0.08</td>\n",
       "      <td>0.139829</td>\n",
       "    </tr>\n",
       "  </tbody>\n",
       "</table>\n",
       "</div>"
      ],
      "text/plain": [
       "      z     r  potential\n",
       "0  0.14  0.00   0.139774\n",
       "1  0.14  0.02   0.139782\n",
       "2  0.14  0.04   0.139795\n",
       "3  0.14  0.06   0.139814\n",
       "4  0.14  0.08   0.139829"
      ]
     },
     "execution_count": 5,
     "metadata": {},
     "output_type": "execute_result"
    }
   ],
   "source": [
    "df = df.rename(columns={\"% dist\" : 'z', 'Electric potential (V), Point: (0, 0)':'potential'})\n",
    "df.head()"
   ]
  },
  {
   "cell_type": "code",
   "execution_count": 8,
   "metadata": {},
   "outputs": [
    {
     "ename": "SyntaxError",
     "evalue": "invalid character in identifier (<ipython-input-8-568a6c42fdfc>, line 3)",
     "output_type": "error",
     "traceback": [
      "\u001b[0;36m  File \u001b[0;32m\"<ipython-input-8-568a6c42fdfc>\"\u001b[0;36m, line \u001b[0;32m3\u001b[0m\n\u001b[0;31m    potential = df[\"potential\"]\u001b[0m\n\u001b[0m                               ^\u001b[0m\n\u001b[0;31mSyntaxError\u001b[0m\u001b[0;31m:\u001b[0m invalid character in identifier\n"
     ]
    }
   ],
   "source": [
    "z = df[\"z\"]\n",
    "r = df[\"r\"]\n",
    "potential = df[\"potential\"]　\n",
    "print(\"length of r:\", r.shape)\n",
    "print(\"length of z:\", z.shape)\n",
    "print(\"shape of potential:\", potential.shape)"
   ]
  },
  {
   "cell_type": "code",
   "execution_count": null,
   "metadata": {},
   "outputs": [],
   "source": [
    "df_pivot = pd.pivot_table(data=df, index=\"z\", columns=\"r\", values=\"potential\")\n",
    "print(\"df_pivot shape:\", df_pivot.shape,  \"\\n\")\n",
    "print(\"Table data: \\n \", df_pivot)"
   ]
  },
  {
   "cell_type": "code",
   "execution_count": null,
   "metadata": {},
   "outputs": [],
   "source": [
    "plt.pcolor(df_pivot.columns, df_pivot.index, df_pivot, cmap=\"jet\")\n",
    "plt.colorbar()\n",
    "# plt.axis(\"tight\")\n",
    "plt.xlabel(\"r\")\n",
    "plt.ylabel(\"z\")\n",
    "plt.show()"
   ]
  },
  {
   "cell_type": "code",
   "execution_count": null,
   "metadata": {},
   "outputs": [],
   "source": [
    "rmin = np.min(r)\n",
    "rmax = np.max(r)\n",
    "print(\"rmin=\",rmin, \" \",\"rmax=\",rmax)\n",
    "zmin = np.min(z)\n",
    "zmax = np.max(z)\n",
    "print(\"zmin=\",zmin, \" \",\"zmax=\",zmax)"
   ]
  },
  {
   "cell_type": "code",
   "execution_count": null,
   "metadata": {},
   "outputs": [],
   "source": [
    "mesh_number = 1000\n",
    "N_r = len(r)\n",
    "N_z = len(z)\n",
    "print(\"N_r:\", N_r)\n",
    "print(\"N_z:\", N_z)\n",
    "x = np.linspace(rmin, rmax, num=mesh_number)\n",
    "y = np.linspace(zmin, zmax, num=mesh_number)\n",
    "xx, yy = np.meshgrid(x, y)"
   ]
  },
  {
   "cell_type": "code",
   "execution_count": null,
   "metadata": {},
   "outputs": [],
   "source": [
    "import scipy.interpolate as interp"
   ]
  },
  {
   "cell_type": "code",
   "execution_count": null,
   "metadata": {},
   "outputs": [],
   "source": [
    "fun = interp.interp2d(df_pivot.columns, df_pivot.index, df_pivot, kind=\"cubic\")\n",
    "# fun(1,3)[0]\n",
    "funs = fun(x, y)"
   ]
  },
  {
   "cell_type": "code",
   "execution_count": null,
   "metadata": {},
   "outputs": [],
   "source": [
    "plt.plot(x, fun(x, 0.15))\n",
    "plt.xlabel(\"r ($\\mu m$)\")\n",
    "plt.ylabel(\"Voltage (V)\")\n",
    "plt.show()"
   ]
  },
  {
   "cell_type": "code",
   "execution_count": null,
   "metadata": {},
   "outputs": [],
   "source": [
    "from mpl_toolkits.mplot3d import Axes3D\n",
    "%matplotlib inline\n",
    "\n",
    "z_label = r\"Voltage (V)\"\n",
    "\n",
    "fig = plt.figure(figsize=(10, 7))\n",
    "ax = fig.add_subplot(111, projection='3d')\n",
    "surf = ax.plot_surface(xx, yy, funs, cmap='jet', linewidth=0) \n",
    "fig.colorbar(surf, label=z_label)\n",
    "plt.xlabel(\"r ($\\mu m$)\")\n",
    "plt.ylabel(\"z ($\\mu m$)\")\n",
    "# ax.set_zlabel(\"Voltage (V)\")\n",
    "\n",
    "\n",
    "plt.show()"
   ]
  },
  {
   "cell_type": "code",
   "execution_count": null,
   "metadata": {},
   "outputs": [],
   "source": [
    "#Physical quantity and parameter\n",
    "shift = 3000\n",
    "A = 20\n",
    "k = 0.006951\n",
    "a0 = 3.8066*2 # nm\n",
    "re = 50/(A*a0/2)\n",
    "h = 141/(A*a0/2)\n",
    "hbarhbardevidedby2m = 9212.5 # GHz/nm^2\n",
    "\n",
    "rmin = 0\n",
    "zmin = 0\n",
    "rmax = 2040/(A*a0/2)\n",
    "zmax = zmin + 190/(A*a0/2) - h\n",
    "x = np.linspace(-rmax, rmax, 1000) # unitless\n",
    "\n",
    "# Define step size along coordinate\n",
    "h = x[1] - x[0]\n",
    "StateNumber = 20\n",
    "N = mesh_number\n",
    "\n",
    "\n",
    "# Create kinetic energy matrix\n",
    "T = np.zeros((N-2)**2).reshape(N-2, N-2)\n",
    "for i in range(N-2):\n",
    "    for j in range(N-2):\n",
    "        if i == j:\n",
    "            T[i, j] = -2 \n",
    "        elif i-j == 1:\n",
    "            T[i, j] = 1 - 1/x[i] * h/2\n",
    "        elif i-j == -1:\n",
    "            T[i, j] == 1 + 1/x[i] * h/2\n",
    "        else:\n",
    "            T[i, j] = 0\n",
    "\n",
    "# Create potential energy energy matrix\n",
    "V = np.zeros((N-2)**2).reshape(N-2, N-2)\n",
    "for i in range(N-2):\n",
    "    for j in range(N-2):\n",
    "        if i == j:\n",
    "            V[i, j] = 1000 * 241.8 * (A*a0/2)**2 * fun((A*a0/2)*x[i+1]/1000, 0.15) / hbarhbardevidedby2m\n",
    "        else:\n",
    "            V[i, j] = 0\n",
    "\n",
    "# Create Hamiltonian matrix\n",
    "H = -T/(2*h**2) + V + shift\n",
    "\n",
    "# Find eigenvalues and eigenvectors, then sort them in ascending order\n",
    "val, vec = np.linalg.eig(H)\n",
    "z = np.argsort(val - shift)\n",
    "z = z[0 : StateNumber]\n",
    "# energies = ((val[z] - shift) / (val[z][0] - shift))\n",
    "energies = val[z] - shift\n",
    "print(energies)\n",
    "\n",
    "\n",
    "plt.figure(figsize=(6, 6))\n",
    "for i in range(len(z)):\n",
    "    y = []\n",
    "    y = np.append(y, vec[:, z[i]])\n",
    "    y = np.append(y, 0)\n",
    "    y = np.insert(y, 0, 0)\n",
    "    plt.plot(x*(A*a0/2), y, lw=3, label=\"{}\".format(i))\n",
    "    plt.ylabel(\"$psi$(x)\", size = 14)\n",
    "\n",
    "plt.title(\"normalized wave functions for a harmonic oscillator using finite difference method\", size =14)\n",
    "plt.show()"
   ]
  },
  {
   "cell_type": "code",
   "execution_count": null,
   "metadata": {},
   "outputs": [],
   "source": [
    "fig = plt.figure(figsize=(10, 10))\n",
    "for i in range(0, StateNumber):\n",
    "    plt.subplot(5,4, i+1)\n",
    "    plt.title(\"State Number %d\" % (i+1))\n",
    "    y = []\n",
    "    y = np.append(y, vec[:, z[i]])\n",
    "    y = np.append(y, 0)\n",
    "    y = np.insert(y, 0, 0)\n",
    "    plt.plot(x*(A*a0/2), y, lw=1.5, label=\"{}\".format(i))\n",
    "#     plt.ylabel(\"$psi$(x)\", size = 14)\n",
    "plt.tight_layout()\n",
    "plt.show()"
   ]
  },
  {
   "cell_type": "code",
   "execution_count": null,
   "metadata": {},
   "outputs": [],
   "source": []
  },
  {
   "cell_type": "code",
   "execution_count": null,
   "metadata": {},
   "outputs": [],
   "source": []
  }
 ],
 "metadata": {
  "kernelspec": {
   "display_name": "Python 3",
   "language": "python",
   "name": "python3"
  },
  "language_info": {
   "codemirror_mode": {
    "name": "ipython",
    "version": 3
   },
   "file_extension": ".py",
   "mimetype": "text/x-python",
   "name": "python",
   "nbconvert_exporter": "python",
   "pygments_lexer": "ipython3",
   "version": "3.7.3"
  }
 },
 "nbformat": 4,
 "nbformat_minor": 2
}
